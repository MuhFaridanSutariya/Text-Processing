{
 "cells": [
  {
   "cell_type": "markdown",
   "id": "da064e39",
   "metadata": {},
   "source": [
    "## Import library"
   ]
  },
  {
   "cell_type": "code",
   "execution_count": 6,
   "id": "c173a15b",
   "metadata": {},
   "outputs": [],
   "source": [
    "import pandas as pd\n",
    "\n",
    "from nltk.tokenize import word_tokenize\n",
    "from nltk.corpus import stopwords\n",
    "from string import punctuation\n",
    "\n",
    "sw_indo = stopwords.words(\"indonesian\") + list(punctuation)"
   ]
  },
  {
   "cell_type": "markdown",
   "id": "d7d04d42",
   "metadata": {},
   "source": [
    "## Import dataset"
   ]
  },
  {
   "cell_type": "code",
   "execution_count": 7,
   "id": "aff25e0e",
   "metadata": {},
   "outputs": [
    {
     "data": {
      "text/html": [
       "<div>\n",
       "<style scoped>\n",
       "    .dataframe tbody tr th:only-of-type {\n",
       "        vertical-align: middle;\n",
       "    }\n",
       "\n",
       "    .dataframe tbody tr th {\n",
       "        vertical-align: top;\n",
       "    }\n",
       "\n",
       "    .dataframe thead th {\n",
       "        text-align: right;\n",
       "    }\n",
       "</style>\n",
       "<table border=\"1\" class=\"dataframe\">\n",
       "  <thead>\n",
       "    <tr style=\"text-align: right;\">\n",
       "      <th></th>\n",
       "      <th>teks</th>\n",
       "    </tr>\n",
       "  </thead>\n",
       "  <tbody>\n",
       "    <tr>\n",
       "      <th>0</th>\n",
       "      <td>Ginandjar Tetap Ditahan. Jaksa Agung Dilaporka...</td>\n",
       "    </tr>\n",
       "    <tr>\n",
       "      <th>1</th>\n",
       "      <td>Jakarta Dikangkangi Para Preman\\nKALAU tak pun...</td>\n",
       "    </tr>\n",
       "    <tr>\n",
       "      <th>2</th>\n",
       "      <td>Penyimpangan di Setpres Seolah Terjadi Sekaran...</td>\n",
       "    </tr>\n",
       "    <tr>\n",
       "      <th>3</th>\n",
       "      <td>Dibayarkan, Rapel Kenaikan Gaji Pegawai Pos\\nK...</td>\n",
       "    </tr>\n",
       "    <tr>\n",
       "      <th>4</th>\n",
       "      <td>Stop Kekerasan, Elite agar Duduk Bersama\\nSeju...</td>\n",
       "    </tr>\n",
       "  </tbody>\n",
       "</table>\n",
       "</div>"
      ],
      "text/plain": [
       "                                                teks\n",
       "0  Ginandjar Tetap Ditahan. Jaksa Agung Dilaporka...\n",
       "1  Jakarta Dikangkangi Para Preman\\nKALAU tak pun...\n",
       "2  Penyimpangan di Setpres Seolah Terjadi Sekaran...\n",
       "3  Dibayarkan, Rapel Kenaikan Gaji Pegawai Pos\\nK...\n",
       "4  Stop Kekerasan, Elite agar Duduk Bersama\\nSeju..."
      ]
     },
     "execution_count": 7,
     "metadata": {},
     "output_type": "execute_result"
    }
   ],
   "source": [
    "df = pd.read_csv(\"data/kompas.csv\")\n",
    "df.head()"
   ]
  },
  {
   "cell_type": "markdown",
   "id": "b4063c65",
   "metadata": {},
   "source": [
    "## Extract TFIDF"
   ]
  },
  {
   "cell_type": "code",
   "execution_count": 8,
   "id": "fcdf1f61",
   "metadata": {},
   "outputs": [],
   "source": [
    "from sklearn.feature_extraction.text import TfidfVectorizer"
   ]
  },
  {
   "cell_type": "code",
   "execution_count": 11,
   "id": "2e1e5404",
   "metadata": {},
   "outputs": [],
   "source": [
    "tfidf = TfidfVectorizer(ngram_range=(1, 2), tokenizer=word_tokenize, stop_words=sw_indo)\n",
    "tfidf_matriks = tfidf.fit_transform(df['teks'])"
   ]
  },
  {
   "cell_type": "markdown",
   "id": "a76eb11c",
   "metadata": {},
   "source": [
    "## TFIDF Similarity digunakan untuk mendapatkan document similarity"
   ]
  },
  {
   "cell_type": "code",
   "execution_count": 12,
   "id": "1da14c7f",
   "metadata": {},
   "outputs": [],
   "source": [
    "from sklearn.metrics.pairwise import cosine_similarity"
   ]
  },
  {
   "cell_type": "code",
   "execution_count": 13,
   "id": "deeaa727",
   "metadata": {},
   "outputs": [
    {
     "data": {
      "text/plain": [
       "array([[1.        , 0.00858328, 0.01060043, ..., 0.00856287, 0.00677808,\n",
       "        0.01513341]])"
      ]
     },
     "execution_count": 13,
     "metadata": {},
     "output_type": "execute_result"
    }
   ],
   "source": [
    "# untuk membandingkan antara value di index pertama dengan seluruh index di tfidf_matriks dari index 1 sampai n.\n",
    "# sistem kerja cosine adalah mencari terlebih dahulu dua sudut lalu dicosinus kan\n",
    "sim = cosine_similarity(tfidf_matriks[0], tfidf_matriks)\n",
    "sim"
   ]
  },
  {
   "cell_type": "code",
   "execution_count": 17,
   "id": "a265f58b",
   "metadata": {},
   "outputs": [
    {
     "data": {
      "text/plain": [
       "array([[ 932, 1131, 1593, ...,  215,  144,    0]], dtype=int64)"
      ]
     },
     "execution_count": 17,
     "metadata": {},
     "output_type": "execute_result"
    }
   ],
   "source": [
    "# untuk melihat di index berapa yang memiliki value tinggi. yang paling mirip dari kanan yaitu 0, 144, 215, dst\n",
    "sim.argsort()"
   ]
  },
  {
   "cell_type": "code",
   "execution_count": 30,
   "id": "5144baf5",
   "metadata": {},
   "outputs": [
    {
     "data": {
      "text/plain": [
       "'Ginandjar Tetap Ditahan. Jaksa Agung Dilaporkan ke Polri\\nKejaksaan Agung memutuskan untuk tetap menahan tersangka kasus korupsi, Ginandjar Kartasasmita, sampai batas waktu yang ditentukan KUHAP. Sedan'"
      ]
     },
     "execution_count": 30,
     "metadata": {},
     "output_type": "execute_result"
    }
   ],
   "source": [
    "# index lalu jumlah kalimatnya\n",
    "df.teks[0][:200]"
   ]
  },
  {
   "cell_type": "code",
   "execution_count": 31,
   "id": "b9129f1c",
   "metadata": {},
   "outputs": [
    {
     "data": {
      "text/plain": [
       "'Kejaksaan Agung Terbitkan Surat Penahanan Baru\\nKejaksaan Agung (Kejagung) akhirnya menerbitkan surat perintah penahanan yang baru terhadap mantan Menteri Pertambangan dan Energi Ginandjar Kartasasmita'"
      ]
     },
     "execution_count": 31,
     "metadata": {},
     "output_type": "execute_result"
    }
   ],
   "source": [
    "# index lalu jumlah kalimatnya\n",
    "df.teks[144][:200]"
   ]
  },
  {
   "cell_type": "code",
   "execution_count": 32,
   "id": "ed3882da",
   "metadata": {},
   "outputs": [
    {
     "data": {
      "text/plain": [
       "'Kuasa Hukum Ginandjar Bertahan di Rutan\\nSejumlah kuasa hukum Ginandjar Kartasasmita hingga hari Selasa (17/4) pukul 22.00 masih bertahan di ruang tahanan (rutan) Kejaksaan Agung (Kejagung). Selasa pag'"
      ]
     },
     "execution_count": 32,
     "metadata": {},
     "output_type": "execute_result"
    }
   ],
   "source": [
    "df.teks[215][:200]    "
   ]
  },
  {
   "cell_type": "code",
   "execution_count": 33,
   "id": "ede73164",
   "metadata": {},
   "outputs": [
    {
     "data": {
      "text/plain": [
       "'Pusat Pengolahan Ikan Asin Lhokseumawe Terbakar\\nPusat pengolahan ikan asin di kawasan Pasar Ikan Lhokseumawe (Aceh) terbakar bersama berton-ton stok ikan asin Sabtu (13/1) siang. Sedikitnya 25 gudang '"
      ]
     },
     "execution_count": 33,
     "metadata": {},
     "output_type": "execute_result"
    }
   ],
   "source": [
    "df.teks[932][:200]    "
   ]
  },
  {
   "cell_type": "markdown",
   "id": "603c7f5c",
   "metadata": {},
   "source": [
    "## Keyword Extraction "
   ]
  },
  {
   "cell_type": "code",
   "execution_count": 37,
   "id": "101a3108",
   "metadata": {},
   "outputs": [
    {
     "data": {
      "text/plain": [
       "['zuniga memilih',\n",
       " 'zunnatul',\n",
       " 'zunnatul mafruhah',\n",
       " 'zurich',\n",
       " 'zurich northholt',\n",
       " 'zw',\n",
       " 'zw suparman',\n",
       " 'zw tim',\n",
       " 'zx',\n",
       " 'zx diserbu']"
      ]
     },
     "execution_count": 37,
     "metadata": {},
     "output_type": "execute_result"
    }
   ],
   "source": [
    "vocab = tfidf.get_feature_names()\n",
    "vocab[-10:]"
   ]
  },
  {
   "cell_type": "code",
   "execution_count": 38,
   "id": "fdbfa954",
   "metadata": {},
   "outputs": [
    {
     "data": {
      "text/plain": [
       "array([[0.02115058, 0.        , 0.        , ..., 0.        , 0.        ,\n",
       "        0.        ]])"
      ]
     },
     "execution_count": 38,
     "metadata": {},
     "output_type": "execute_result"
    }
   ],
   "source": [
    "tfidf_matriks[0].toarray()"
   ]
  },
  {
   "cell_type": "code",
   "execution_count": 39,
   "id": "79011048",
   "metadata": {},
   "outputs": [
    {
     "data": {
      "text/plain": [
       "array([274201, 365453, 365452, ..., 386361, 436633, 169209], dtype=int64)"
      ]
     },
     "execution_count": 39,
     "metadata": {},
     "output_type": "execute_result"
    }
   ],
   "source": [
    "sorted_tfidf = tfidf_matriks[0].toarray()[0].argsort()\n",
    "sorted_tfidf"
   ]
  },
  {
   "cell_type": "code",
   "execution_count": 43,
   "id": "8e3cafac",
   "metadata": {},
   "outputs": [
    {
     "data": {
      "text/plain": [
       "'ginandjar'"
      ]
     },
     "execution_count": 43,
     "metadata": {},
     "output_type": "execute_result"
    }
   ],
   "source": [
    "vocab[169209]"
   ]
  },
  {
   "cell_type": "code",
   "execution_count": 44,
   "id": "7b5d24d6",
   "metadata": {},
   "outputs": [
    {
     "data": {
      "text/plain": [
       "'litbang partai'"
      ]
     },
     "execution_count": 44,
     "metadata": {},
     "output_type": "execute_result"
    }
   ],
   "source": [
    "vocab[274201]"
   ]
  },
  {
   "cell_type": "code",
   "execution_count": 49,
   "id": "800038c7",
   "metadata": {},
   "outputs": [
    {
     "data": {
      "text/plain": [
       "['ginandjar',\n",
       " 'putusan',\n",
       " 'penahanan',\n",
       " 'hukum ginandjar',\n",
       " 'kuasa hukum',\n",
       " 'rusman',\n",
       " 'kejaksaan',\n",
       " 'hakim rusman',\n",
       " 'kuasa',\n",
       " '9 april']"
      ]
     },
     "execution_count": 49,
     "metadata": {},
     "output_type": "execute_result"
    }
   ],
   "source": [
    "# melihat 10 vocab atau keyword unik di tiap features teratas\n",
    "[vocab[idx] for idx in reversed(sorted_tfidf[-10:])]"
   ]
  },
  {
   "cell_type": "code",
   "execution_count": 56,
   "id": "378641ff",
   "metadata": {},
   "outputs": [],
   "source": [
    "def extract_keywords_tfidf(doc, tfidf, topk=10) :\n",
    "    matrix = tfidf.transform([doc])\n",
    "    vocab = tfidf.get_feature_names()\n",
    "    \n",
    "    sorted_tfidf = matrix[0].toarray()[0].argsort()\n",
    "    return [vocab[idx] for idx in reversed(sorted_tfidf[-topk:])]"
   ]
  },
  {
   "cell_type": "code",
   "execution_count": 57,
   "id": "3250026f",
   "metadata": {},
   "outputs": [],
   "source": [
    "teks = \"\"\" \n",
    "Unggahan IG Persija Isyaratkan Bambang Pamungkas Gantung Sepatu?\n",
    "\n",
    "Unggahan akun Instagram Persija pada Minggu, 15 Desember 2019 lalu, sempat membuat geger dunia maya, terutama twitter. Menjelang perhelatan melawan Persebaya Surabaya di pecan ke-33 Liga 1 2019 yang akan digelar Selasa, 17 Desember nanti, IG Persija memposting foto dan caption yang tak biasa.\n",
    "\n",
    "Unggahan tersebut mengusung foto pemain seior Bambang Pamungkas (Bepe) dengan tulisan Almost There pada gambar. Sementara di bagian caption, tertulis ‘Laga Home Pamungkas’. Berkat unggahan ini, banyak pihak berspekulasi bahwa Bepe akan segera gantung sepatu alias pensiun.\n",
    "\n",
    "Hal ini diperkuat dengan postingan Bepe dengan ungguhan yang sama beserta tulisan Almost There. Terlebih, isu pensiun ini telah berhembus sejak beberapa waktu lalu. CEO Persija, Ferry Paulus sampai kini belum bisa memberikan konfirmasi pasti akan kebenaran berita ini.\n",
    "\n",
    "Jika ditilik dari umurnya yang sudah menginjak 38 tahun, Bepe memang sudah sewajarnya mengambil jatah pensiun. Namun, keinginan tersebut tahun lalu sempat dicekal bos Persija Gede Widiade lantaran ia dianggap sebagai ikon yang menjanjikan.\n",
    "\n",
    "\"\"\""
   ]
  },
  {
   "cell_type": "code",
   "execution_count": 58,
   "id": "3e826028",
   "metadata": {},
   "outputs": [
    {
     "data": {
      "text/plain": [
       "['persija',\n",
       " 'pamungkas',\n",
       " 'pensiun',\n",
       " 'almost',\n",
       " 'there',\n",
       " 'bambang pamungkas',\n",
       " 'gantung',\n",
       " 'foto',\n",
       " 'tulisan',\n",
       " 'sepatu']"
      ]
     },
     "execution_count": 58,
     "metadata": {},
     "output_type": "execute_result"
    }
   ],
   "source": [
    "extract_keywords_tfidf(teks, tfidf)"
   ]
  },
  {
   "cell_type": "code",
   "execution_count": 59,
   "id": "283715f3",
   "metadata": {},
   "outputs": [
    {
     "data": {
      "text/plain": [
       "array([ 28062,      0, 200981, ..., 199875, 199906, 548403], dtype=int64)"
      ]
     },
     "execution_count": 59,
     "metadata": {},
     "output_type": "execute_result"
    }
   ],
   "source": [
    "tfidf.idf_.argsort()"
   ]
  },
  {
   "cell_type": "code",
   "execution_count": 63,
   "id": "2f9260f2",
   "metadata": {},
   "outputs": [
    {
     "data": {
      "text/plain": [
       "'zx diserbu'"
      ]
     },
     "execution_count": 63,
     "metadata": {},
     "output_type": "execute_result"
    }
   ],
   "source": [
    "# paling sering muncul\n",
    "vocab[548403]"
   ]
  },
  {
   "cell_type": "code",
   "execution_count": 64,
   "id": "8917511a",
   "metadata": {},
   "outputs": [
    {
     "data": {
      "text/plain": [
       "'``'"
      ]
     },
     "execution_count": 64,
     "metadata": {},
     "output_type": "execute_result"
    }
   ],
   "source": [
    "# paling jarang muncul\n",
    "vocab[28062]"
   ]
  }
 ],
 "metadata": {
  "kernelspec": {
   "display_name": "Python [conda env:jcop_ud]",
   "language": "python",
   "name": "conda-env-jcop_ud-py"
  },
  "language_info": {
   "codemirror_mode": {
    "name": "ipython",
    "version": 3
   },
   "file_extension": ".py",
   "mimetype": "text/x-python",
   "name": "python",
   "nbconvert_exporter": "python",
   "pygments_lexer": "ipython3",
   "version": "3.7.6"
  },
  "varInspector": {
   "cols": {
    "lenName": 16,
    "lenType": 16,
    "lenVar": 40
   },
   "kernels_config": {
    "python": {
     "delete_cmd_postfix": "",
     "delete_cmd_prefix": "del ",
     "library": "var_list.py",
     "varRefreshCmd": "print(var_dic_list())"
    },
    "r": {
     "delete_cmd_postfix": ") ",
     "delete_cmd_prefix": "rm(",
     "library": "var_list.r",
     "varRefreshCmd": "cat(var_dic_list()) "
    }
   },
   "types_to_exclude": [
    "module",
    "function",
    "builtin_function_or_method",
    "instance",
    "_Feature"
   ],
   "window_display": false
  }
 },
 "nbformat": 4,
 "nbformat_minor": 5
}
